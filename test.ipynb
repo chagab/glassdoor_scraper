{
 "cells": [
  {
   "cell_type": "code",
   "execution_count": 1,
   "metadata": {},
   "outputs": [
    {
     "data": {
      "text/plain": [
       "<contextlib.ExitStack at 0x255b9d86900>"
      ]
     },
     "execution_count": 1,
     "metadata": {},
     "output_type": "execute_result"
    }
   ],
   "source": [
    "from DatabaseHandler import DatabaseHandler\n",
    "import matplotlib\n",
    "import warnings\n",
    "\n",
    "warnings.simplefilter(action='ignore', category=FutureWarning)\n",
    "matplotlib.use('Qt5Agg')\n",
    "matplotlib.pyplot.ion()"
   ]
  },
  {
   "cell_type": "code",
   "execution_count": 2,
   "metadata": {},
   "outputs": [],
   "source": [
    "job_title = 'Data Engineer'\n",
    "database = DatabaseHandler()\n",
    "database.create(job_title=job_title)\n",
    "database.fill(headless=False)\n",
    "database.plot()"
   ]
  },
  {
   "cell_type": "code",
   "execution_count": 3,
   "metadata": {},
   "outputs": [],
   "source": [
    "database = DatabaseHandler()\n",
    "database.open(\"database/database-data_analyst.csv\")\n",
    "database.plot()"
   ]
  },
  {
   "cell_type": "code",
   "execution_count": 4,
   "metadata": {},
   "outputs": [],
   "source": [
    "database2 = DatabaseHandler()\n",
    "database2.open(\"database/database-data_scientist.csv\")\n",
    "database2.plot()"
   ]
  },
  {
   "cell_type": "code",
   "execution_count": 5,
   "metadata": {},
   "outputs": [],
   "source": [
    "database3 = DatabaseHandler()\n",
    "database3.open(\"database/database-data_engineer.csv\")\n",
    "database3.plot()"
   ]
  }
 ],
 "metadata": {
  "kernelspec": {
   "display_name": "surf_city",
   "language": "python",
   "name": "python3"
  },
  "language_info": {
   "codemirror_mode": {
    "name": "ipython",
    "version": 3
   },
   "file_extension": ".py",
   "mimetype": "text/x-python",
   "name": "python",
   "nbconvert_exporter": "python",
   "pygments_lexer": "ipython3",
   "version": "3.12.0"
  }
 },
 "nbformat": 4,
 "nbformat_minor": 2
}
